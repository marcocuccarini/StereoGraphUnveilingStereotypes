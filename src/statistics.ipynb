{
 "cells": [
  {
   "cell_type": "code",
   "id": "initial_id",
   "metadata": {
    "collapsed": true,
    "ExecuteTime": {
     "end_time": "2025-05-28T12:51:39.114099Z",
     "start_time": "2025-05-28T12:51:38.809674Z"
    }
   },
   "source": "import pandas as pd",
   "outputs": [],
   "execution_count": 1
  },
  {
   "metadata": {
    "ExecuteTime": {
     "end_time": "2025-05-28T12:53:00.878181Z",
     "start_time": "2025-05-28T12:53:00.858242Z"
    }
   },
   "cell_type": "code",
   "source": [
    "csv_path = \"/data/final_train.csv\"\n",
    "df = pd.read_csv(csv_path)"
   ],
   "id": "824a4374caa0df63",
   "outputs": [],
   "execution_count": 4
  },
  {
   "metadata": {
    "ExecuteTime": {
     "end_time": "2025-05-28T12:54:04.160317Z",
     "start_time": "2025-05-28T12:54:04.156022Z"
    }
   },
   "cell_type": "code",
   "source": [
    "value_counts = df['stereotype_class'].value_counts(dropna=False)\n",
    "print(\"Count of each stereotype_class:\")\n",
    "print(value_counts)\n"
   ],
   "id": "524d6eacbd261d7e",
   "outputs": [
    {
     "name": "stdout",
     "output_type": "stream",
     "text": [
      "Count of each stereotype_class:\n",
      "stereotype_class\n",
      "areDangerous                 804\n",
      "areAggressive                469\n",
      "areInferior                  360\n",
      "NaN                          289\n",
      "areSubordinate               209\n",
      "                            ... \n",
      "areSinister                    1\n",
      "desireControl                  1\n",
      "haveRacialBias                 1\n",
      "ComplainWhenOthersSucceed      1\n",
      "WillNotBePunished              1\n",
      "Name: count, Length: 1140, dtype: int64\n"
     ]
    }
   ],
   "execution_count": 7
  },
  {
   "metadata": {
    "ExecuteTime": {
     "end_time": "2025-05-28T12:57:48.805853Z",
     "start_time": "2025-05-28T12:57:48.801595Z"
    }
   },
   "cell_type": "code",
   "source": [
    "value_counts = df['stereotype_class'].value_counts()\n",
    "single_occurrence_classes = value_counts[value_counts > 20]\n",
    "print(single_occurrence_classes)"
   ],
   "id": "e2d8309c5108df82",
   "outputs": [
    {
     "name": "stdout",
     "output_type": "stream",
     "text": [
      "stereotype_class\n",
      "areDangerous              804\n",
      "areAggressive             469\n",
      "areInferior               360\n",
      "areSubordinate            209\n",
      "areBigoted                202\n",
      "areDeceptive              186\n",
      "areHostile                171\n",
      "AreUndesirable            169\n",
      "areSuperior               130\n",
      "areUndesirable            112\n",
      "areViolent                 72\n",
      "viewAsInferior             57\n",
      "areWeak                    56\n",
      "areIgnorant                42\n",
      "areCriminals               39\n",
      "areExtinct                 37\n",
      "areNegative                35\n",
      "areIncompetent             32\n",
      "areVulnerable              30\n",
      "arePrivileged              30\n",
      "areDestructive             29\n",
      "areRacist                  28\n",
      "areLazy                    28\n",
      "areNotWhite                27\n",
      "arePrejudiced              27\n",
      "areThreatening             26\n",
      "arePredators               26\n",
      "believeTheyAreInferior     24\n",
      "Name: count, dtype: int64\n"
     ]
    }
   ],
   "execution_count": 9
  }
 ],
 "metadata": {
  "kernelspec": {
   "display_name": "Python 3",
   "language": "python",
   "name": "python3"
  },
  "language_info": {
   "codemirror_mode": {
    "name": "ipython",
    "version": 2
   },
   "file_extension": ".py",
   "mimetype": "text/x-python",
   "name": "python",
   "nbconvert_exporter": "python",
   "pygments_lexer": "ipython2",
   "version": "2.7.6"
  }
 },
 "nbformat": 4,
 "nbformat_minor": 5
}
